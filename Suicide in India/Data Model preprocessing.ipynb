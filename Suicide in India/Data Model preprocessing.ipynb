{
 "cells": [
  {
   "cell_type": "markdown",
   "id": "3e4f59e8",
   "metadata": {},
   "source": [
    "# Suicides In India (2001- 2012)"
   ]
  },
  {
   "cell_type": "markdown",
   "id": "e6b90fd9",
   "metadata": {},
   "source": [
    "\n",
    "\n",
    "Import Liabraries or Packages"
   ]
  },
  {
   "cell_type": "code",
   "execution_count": 34,
   "id": "7c56af81",
   "metadata": {},
   "outputs": [],
   "source": [
    "import numpy as np\n",
    "import pandas as pd\n",
    "import matplotlib.pyplot as plt"
   ]
  },
  {
   "cell_type": "code",
   "execution_count": 35,
   "id": "742da240",
   "metadata": {},
   "outputs": [],
   "source": [
    "data=pd.read_csv('Suicides in India 2001-2012.csv')"
   ]
  },
  {
   "cell_type": "code",
   "execution_count": 36,
   "id": "bb08e227",
   "metadata": {},
   "outputs": [
    {
     "data": {
      "text/html": [
       "<div>\n",
       "<style scoped>\n",
       "    .dataframe tbody tr th:only-of-type {\n",
       "        vertical-align: middle;\n",
       "    }\n",
       "\n",
       "    .dataframe tbody tr th {\n",
       "        vertical-align: top;\n",
       "    }\n",
       "\n",
       "    .dataframe thead th {\n",
       "        text-align: right;\n",
       "    }\n",
       "</style>\n",
       "<table border=\"1\" class=\"dataframe\">\n",
       "  <thead>\n",
       "    <tr style=\"text-align: right;\">\n",
       "      <th></th>\n",
       "      <th>State</th>\n",
       "      <th>Year</th>\n",
       "      <th>Type_code</th>\n",
       "      <th>Type</th>\n",
       "      <th>Gender</th>\n",
       "      <th>Age_group</th>\n",
       "      <th>Total</th>\n",
       "    </tr>\n",
       "  </thead>\n",
       "  <tbody>\n",
       "    <tr>\n",
       "      <th>0</th>\n",
       "      <td>A &amp; N Islands</td>\n",
       "      <td>2001</td>\n",
       "      <td>Causes</td>\n",
       "      <td>Illness (Aids/STD)</td>\n",
       "      <td>Female</td>\n",
       "      <td>0-14</td>\n",
       "      <td>0</td>\n",
       "    </tr>\n",
       "    <tr>\n",
       "      <th>1</th>\n",
       "      <td>A &amp; N Islands</td>\n",
       "      <td>2001</td>\n",
       "      <td>Causes</td>\n",
       "      <td>Bankruptcy or Sudden change in Economic</td>\n",
       "      <td>Female</td>\n",
       "      <td>0-14</td>\n",
       "      <td>0</td>\n",
       "    </tr>\n",
       "    <tr>\n",
       "      <th>2</th>\n",
       "      <td>A &amp; N Islands</td>\n",
       "      <td>2001</td>\n",
       "      <td>Causes</td>\n",
       "      <td>Cancellation/Non-Settlement of Marriage</td>\n",
       "      <td>Female</td>\n",
       "      <td>0-14</td>\n",
       "      <td>0</td>\n",
       "    </tr>\n",
       "    <tr>\n",
       "      <th>3</th>\n",
       "      <td>A &amp; N Islands</td>\n",
       "      <td>2001</td>\n",
       "      <td>Causes</td>\n",
       "      <td>Physical Abuse (Rape/Incest Etc.)</td>\n",
       "      <td>Female</td>\n",
       "      <td>0-14</td>\n",
       "      <td>0</td>\n",
       "    </tr>\n",
       "    <tr>\n",
       "      <th>4</th>\n",
       "      <td>A &amp; N Islands</td>\n",
       "      <td>2001</td>\n",
       "      <td>Causes</td>\n",
       "      <td>Dowry Dispute</td>\n",
       "      <td>Female</td>\n",
       "      <td>0-14</td>\n",
       "      <td>0</td>\n",
       "    </tr>\n",
       "  </tbody>\n",
       "</table>\n",
       "</div>"
      ],
      "text/plain": [
       "           State  Year Type_code                                     Type  \\\n",
       "0  A & N Islands  2001    Causes                       Illness (Aids/STD)   \n",
       "1  A & N Islands  2001    Causes  Bankruptcy or Sudden change in Economic   \n",
       "2  A & N Islands  2001    Causes  Cancellation/Non-Settlement of Marriage   \n",
       "3  A & N Islands  2001    Causes        Physical Abuse (Rape/Incest Etc.)   \n",
       "4  A & N Islands  2001    Causes                            Dowry Dispute   \n",
       "\n",
       "   Gender Age_group  Total  \n",
       "0  Female      0-14      0  \n",
       "1  Female      0-14      0  \n",
       "2  Female      0-14      0  \n",
       "3  Female      0-14      0  \n",
       "4  Female      0-14      0  "
      ]
     },
     "execution_count": 36,
     "metadata": {},
     "output_type": "execute_result"
    }
   ],
   "source": [
    "data.head()"
   ]
  },
  {
   "cell_type": "code",
   "execution_count": 37,
   "id": "e07d5787",
   "metadata": {},
   "outputs": [
    {
     "data": {
      "text/plain": [
       "(237519, 7)"
      ]
     },
     "execution_count": 37,
     "metadata": {},
     "output_type": "execute_result"
    }
   ],
   "source": [
    "data.shape"
   ]
  },
  {
   "cell_type": "code",
   "execution_count": 38,
   "id": "3270be52",
   "metadata": {},
   "outputs": [
    {
     "name": "stdout",
     "output_type": "stream",
     "text": [
      "<class 'pandas.core.frame.DataFrame'>\n",
      "RangeIndex: 237519 entries, 0 to 237518\n",
      "Data columns (total 7 columns):\n",
      " #   Column     Non-Null Count   Dtype \n",
      "---  ------     --------------   ----- \n",
      " 0   State      237519 non-null  object\n",
      " 1   Year       237519 non-null  int64 \n",
      " 2   Type_code  237519 non-null  object\n",
      " 3   Type       237519 non-null  object\n",
      " 4   Gender     237519 non-null  object\n",
      " 5   Age_group  237519 non-null  object\n",
      " 6   Total      237519 non-null  int64 \n",
      "dtypes: int64(2), object(5)\n",
      "memory usage: 12.7+ MB\n"
     ]
    }
   ],
   "source": [
    "data.info()"
   ]
  },
  {
   "cell_type": "code",
   "execution_count": 39,
   "id": "692534ea",
   "metadata": {},
   "outputs": [
    {
     "data": {
      "text/plain": [
       "State        0\n",
       "Year         0\n",
       "Type_code    0\n",
       "Type         0\n",
       "Gender       0\n",
       "Age_group    0\n",
       "Total        0\n",
       "dtype: int64"
      ]
     },
     "execution_count": 39,
     "metadata": {},
     "output_type": "execute_result"
    }
   ],
   "source": [
    "data.isnull().sum()"
   ]
  },
  {
   "cell_type": "markdown",
   "id": "4b49f754",
   "metadata": {},
   "source": [
    "# Total Suicides in India"
   ]
  },
  {
   "cell_type": "code",
   "execution_count": 40,
   "id": "3c1373bc",
   "metadata": {},
   "outputs": [
    {
     "data": {
      "text/plain": [
       "13071734"
      ]
     },
     "execution_count": 40,
     "metadata": {},
     "output_type": "execute_result"
    }
   ],
   "source": [
    "data.Total.sum()"
   ]
  },
  {
   "cell_type": "code",
   "execution_count": 41,
   "id": "4866ee9d",
   "metadata": {},
   "outputs": [
    {
     "data": {
      "text/html": [
       "<div>\n",
       "<style scoped>\n",
       "    .dataframe tbody tr th:only-of-type {\n",
       "        vertical-align: middle;\n",
       "    }\n",
       "\n",
       "    .dataframe tbody tr th {\n",
       "        vertical-align: top;\n",
       "    }\n",
       "\n",
       "    .dataframe thead th {\n",
       "        text-align: right;\n",
       "    }\n",
       "</style>\n",
       "<table border=\"1\" class=\"dataframe\">\n",
       "  <thead>\n",
       "    <tr style=\"text-align: right;\">\n",
       "      <th></th>\n",
       "      <th>State</th>\n",
       "      <th>Year</th>\n",
       "      <th>Type_code</th>\n",
       "      <th>Type</th>\n",
       "      <th>Gender</th>\n",
       "      <th>Age_group</th>\n",
       "      <th>Total</th>\n",
       "    </tr>\n",
       "  </thead>\n",
       "  <tbody>\n",
       "    <tr>\n",
       "      <th>209783</th>\n",
       "      <td>Total (All India)</td>\n",
       "      <td>2012</td>\n",
       "      <td>Social_Status</td>\n",
       "      <td>Married</td>\n",
       "      <td>Male</td>\n",
       "      <td>0-100+</td>\n",
       "      <td>63343</td>\n",
       "    </tr>\n",
       "    <tr>\n",
       "      <th>209757</th>\n",
       "      <td>Total (All India)</td>\n",
       "      <td>2011</td>\n",
       "      <td>Social_Status</td>\n",
       "      <td>Married</td>\n",
       "      <td>Male</td>\n",
       "      <td>0-100+</td>\n",
       "      <td>62433</td>\n",
       "    </tr>\n",
       "    <tr>\n",
       "      <th>210099</th>\n",
       "      <td>Total (States)</td>\n",
       "      <td>2012</td>\n",
       "      <td>Social_Status</td>\n",
       "      <td>Married</td>\n",
       "      <td>Male</td>\n",
       "      <td>0-100+</td>\n",
       "      <td>62123</td>\n",
       "    </tr>\n",
       "    <tr>\n",
       "      <th>209733</th>\n",
       "      <td>Total (All India)</td>\n",
       "      <td>2010</td>\n",
       "      <td>Social_Status</td>\n",
       "      <td>Married</td>\n",
       "      <td>Male</td>\n",
       "      <td>0-100+</td>\n",
       "      <td>61453</td>\n",
       "    </tr>\n",
       "    <tr>\n",
       "      <th>210069</th>\n",
       "      <td>Total (States)</td>\n",
       "      <td>2011</td>\n",
       "      <td>Social_Status</td>\n",
       "      <td>Married</td>\n",
       "      <td>Male</td>\n",
       "      <td>0-100+</td>\n",
       "      <td>61242</td>\n",
       "    </tr>\n",
       "  </tbody>\n",
       "</table>\n",
       "</div>"
      ],
      "text/plain": [
       "                    State  Year      Type_code     Type Gender Age_group  \\\n",
       "209783  Total (All India)  2012  Social_Status  Married   Male    0-100+   \n",
       "209757  Total (All India)  2011  Social_Status  Married   Male    0-100+   \n",
       "210099     Total (States)  2012  Social_Status  Married   Male    0-100+   \n",
       "209733  Total (All India)  2010  Social_Status  Married   Male    0-100+   \n",
       "210069     Total (States)  2011  Social_Status  Married   Male    0-100+   \n",
       "\n",
       "        Total  \n",
       "209783  63343  \n",
       "209757  62433  \n",
       "210099  62123  \n",
       "209733  61453  \n",
       "210069  61242  "
      ]
     },
     "execution_count": 41,
     "metadata": {},
     "output_type": "execute_result"
    }
   ],
   "source": [
    "data.sort_values(['Total'], ascending = False).head()"
   ]
  },
  {
   "cell_type": "markdown",
   "id": "852a5f8e",
   "metadata": {},
   "source": [
    "# Total Suicides In India State Wise"
   ]
  },
  {
   "cell_type": "code",
   "execution_count": 42,
   "id": "52fa80e4",
   "metadata": {},
   "outputs": [
    {
     "data": {
      "text/plain": [
       "State\n",
       "Lakshadweep               50\n",
       "Daman & Diu             1391\n",
       "Nagaland                1728\n",
       "Manipur                 2102\n",
       "D & N Haveli            3430\n",
       "Mizoram                 4154\n",
       "Chandigarh              5164\n",
       "Meghalaya               5415\n",
       "Arunachal Pradesh       6633\n",
       "A & N Islands           8109\n",
       "Sikkim                  9606\n",
       "Jammu & Kashmir        14821\n",
       "Goa                    17363\n",
       "Uttarakhand            18496\n",
       "Himachal Pradesh       26562\n",
       "Puducherry             32144\n",
       "Tripura                45965\n",
       "Bihar                  46214\n",
       "Punjab                 46350\n",
       "Jharkhand              49720\n",
       "Total (Uts)            53836\n",
       "Delhi (Ut)             84272\n",
       "Haryana               147176\n",
       "Assam                 172276\n",
       "Uttar Pradesh         233352\n",
       "Rajasthan             255134\n",
       "Odisha                267234\n",
       "Chhattisgarh          302354\n",
       "Gujarat               330858\n",
       "Madhya Pradesh        451535\n",
       "Kerala                538946\n",
       "Karnataka             734825\n",
       "Andhra Pradesh        814059\n",
       "Tamil Nadu            818691\n",
       "West Bengal           849936\n",
       "Maharashtra           901945\n",
       "Total (States)       2858026\n",
       "Total (All India)    2911862\n",
       "Name: Total, dtype: int64"
      ]
     },
     "execution_count": 42,
     "metadata": {},
     "output_type": "execute_result"
    }
   ],
   "source": [
    "D=data.groupby('State').Total.sum().sort_values(ascending = True)\n",
    "D"
   ]
  },
  {
   "cell_type": "code",
   "execution_count": 43,
   "id": "c9ad3c57",
   "metadata": {},
   "outputs": [
    {
     "data": {
      "image/png": "[encoded data removed]",
      "text/plain": [
       "<Figure size 432x288 with 1 Axes>"
      ]
     },
     "metadata": {
      "needs_background": "light"
     },
     "output_type": "display_data"
    }
   ],
   "source": [
    "x= D.index.values\n",
    "y= D.values\n",
    "plt.plot(x,y)\n",
    "\n",
    "plt.title('Total Suicides In India State Wise')\n",
    "plt.xlabel('State')\n",
    "plt.ylabel('Suicide count x 10^6')\n",
    "plt.show()"
   ]
  },
  {
   "cell_type": "markdown",
   "id": "ebc97d49",
   "metadata": {},
   "source": [
    "#Total suicide In India Yearwise "
   ]
  },
  {
   "cell_type": "code",
   "execution_count": 44,
   "id": "02f7ff0c",
   "metadata": {},
   "outputs": [
    {
     "data": {
      "text/plain": [
       "Year\n",
       "2001     976464\n",
       "2002     993648\n",
       "2003     997622\n",
       "2004    1023137\n",
       "2005    1025201\n",
       "2006    1062991\n",
       "2007    1103667\n",
       "2008    1125082\n",
       "2009    1144033\n",
       "2010    1211322\n",
       "2011    1219499\n",
       "2012    1189068\n",
       "Name: Total, dtype: int64"
      ]
     },
     "execution_count": 44,
     "metadata": {},
     "output_type": "execute_result"
    }
   ],
   "source": [
    "A= data.groupby('Year').Total.sum()\n",
    "A"
   ]
  },
  {
   "cell_type": "code",
   "execution_count": 45,
   "id": "89255820",
   "metadata": {},
   "outputs": [],
   "source": [
    "x= A.index.values\n",
    "y= A.values\n"
   ]
  },
  {
   "cell_type": "code",
   "execution_count": 46,
   "id": "31ded808",
   "metadata": {},
   "outputs": [
    {
     "data": {
      "image/png": "[encoded data removed]",
      "text/plain": [
       "<Figure size 432x288 with 1 Axes>"
      ]
     },
     "metadata": {
      "needs_background": "light"
     },
     "output_type": "display_data"
    }
   ],
   "source": [
    "plt.scatter(x,y)\n",
    "plt.xlabel('Year')\n",
    "plt.ylabel('Sucide Count x10^6')\n",
    "plt.show()\n"
   ]
  },
  {
   "cell_type": "code",
   "execution_count": null,
   "id": "33305cd8",
   "metadata": {},
   "outputs": [],
   "source": []
  },
  {
   "cell_type": "markdown",
   "id": "84d9e534",
   "metadata": {},
   "source": [
    "# Total Suicides in india Gender Wise"
   ]
  },
  {
   "cell_type": "code",
   "execution_count": 47,
   "id": "f232e301",
   "metadata": {},
   "outputs": [
    {
     "data": {
      "text/plain": [
       "Gender\n",
       "Female    4702974\n",
       "Male      8368760\n",
       "Name: Total, dtype: int64"
      ]
     },
     "execution_count": 47,
     "metadata": {},
     "output_type": "execute_result"
    }
   ],
   "source": [
    "data.groupby('Gender').Total.sum()"
   ]
  },
  {
   "cell_type": "markdown",
   "id": "dc452e26",
   "metadata": {},
   "source": [
    "# Total Suicides in India State-Year-Gender Wise"
   ]
  },
  {
   "cell_type": "code",
   "execution_count": 48,
   "id": "f39cee6c",
   "metadata": {},
   "outputs": [
    {
     "data": {
      "text/plain": [
       "State          Year  Gender\n",
       "A & N Islands  2001  Female      250\n",
       "                     Male        395\n",
       "               2002  Female      265\n",
       "                     Male        455\n",
       "               2003  Female      215\n",
       "                               ...  \n",
       "West Bengal    2010  Male      46505\n",
       "               2011  Female    34340\n",
       "                     Male      48120\n",
       "               2012  Female    18831\n",
       "                     Male      26040\n",
       "Name: Total, Length: 912, dtype: int64"
      ]
     },
     "execution_count": 48,
     "metadata": {},
     "output_type": "execute_result"
    }
   ],
   "source": [
    " data.groupby(['State','Year','Gender']).Total.sum()"
   ]
  },
  {
   "cell_type": "markdown",
   "id": "ebd4906b",
   "metadata": {},
   "source": [
    "# Total Suicides In INDIA by type(Cause)"
   ]
  },
  {
   "cell_type": "code",
   "execution_count": 49,
   "id": "ecbd4c73",
   "metadata": {},
   "outputs": [
    {
     "data": {
      "text/plain": [
       "Type\n",
       "Married                                           3065322\n",
       "Primary                                           1088481\n",
       "Middle                                            1028913\n",
       "No Education                                       965271\n",
       "Never Married                                      954903\n",
       "                                                   ...   \n",
       "Bankruptcy or Sudden change in Economic Status       2655\n",
       "Illegitimate Pregnancy                               2494\n",
       "Ideological Causes/Hero Worshipping                  2118\n",
       "By Machine                                           1661\n",
       "Not having Children (Barrenness/Impotency             766\n",
       "Name: Total, Length: 69, dtype: int64"
      ]
     },
     "execution_count": 49,
     "metadata": {},
     "output_type": "execute_result"
    }
   ],
   "source": [
    "data.groupby(['Type']).Total.sum().sort_values(ascending=False)"
   ]
  },
  {
   "cell_type": "markdown",
   "id": "58131faa",
   "metadata": {},
   "source": [
    "# Data Model Building - Linear Regression"
   ]
  },
  {
   "cell_type": "code",
   "execution_count": 50,
   "id": "2d135ce8",
   "metadata": {},
   "outputs": [
    {
     "data": {
      "text/plain": [
       "Year\n",
       "2001     976464\n",
       "2002     993648\n",
       "2003     997622\n",
       "2004    1023137\n",
       "2005    1025201\n",
       "2006    1062991\n",
       "2007    1103667\n",
       "2008    1125082\n",
       "2009    1144033\n",
       "2010    1211322\n",
       "2011    1219499\n",
       "2012    1189068\n",
       "Name: Total, dtype: int64"
      ]
     },
     "execution_count": 50,
     "metadata": {},
     "output_type": "execute_result"
    }
   ],
   "source": [
    "D=data.groupby('Year').Total.sum()\n",
    "D"
   ]
  },
  {
   "cell_type": "markdown",
   "id": "d17e1bea",
   "metadata": {},
   "source": [
    "Expected 2D array, got 1D array instead:\n",
    "Reshape your data either using array.reshape(-1, 1) if your data has a single feature or array.reshape(1, -1) if it contains a single sample."
   ]
  },
  {
   "cell_type": "code",
   "execution_count": 51,
   "id": "e6fddfc4",
   "metadata": {},
   "outputs": [
    {
     "data": {
      "text/plain": [
       "array([[2001],\n",
       "       [2002],\n",
       "       [2003],\n",
       "       [2004],\n",
       "       [2005],\n",
       "       [2006],\n",
       "       [2007],\n",
       "       [2008],\n",
       "       [2009],\n",
       "       [2010],\n",
       "       [2011],\n",
       "       [2012]], dtype=int64)"
      ]
     },
     "execution_count": 51,
     "metadata": {},
     "output_type": "execute_result"
    }
   ],
   "source": [
    "# For removing this type  of error we reshape the data\n",
    "x=D.index.values.reshape(-1,1)\n",
    "x"
   ]
  },
  {
   "cell_type": "code",
   "execution_count": 52,
   "id": "9a288ddb",
   "metadata": {},
   "outputs": [
    {
     "data": {
      "text/plain": [
       "array([ 976464,  993648,  997622, 1023137, 1025201, 1062991, 1103667,\n",
       "       1125082, 1144033, 1211322, 1219499, 1189068], dtype=int64)"
      ]
     },
     "execution_count": 52,
     "metadata": {},
     "output_type": "execute_result"
    }
   ],
   "source": [
    "y=D.values\n",
    "y"
   ]
  },
  {
   "cell_type": "code",
   "execution_count": 53,
   "id": "0df54e67",
   "metadata": {},
   "outputs": [
    {
     "data": {
      "image/png": "[encoded data removed]",
      "text/plain": [
       "<Figure size 432x288 with 1 Axes>"
      ]
     },
     "metadata": {
      "needs_background": "light"
     },
     "output_type": "display_data"
    }
   ],
   "source": [
    "plt.scatter(x,y)\n",
    "plt.xlabel('Year')\n",
    "plt.ylabel('Total Suicides x 10^6')\n",
    "plt.show()"
   ]
  },
  {
   "cell_type": "code",
   "execution_count": 54,
   "id": "ee4a3898",
   "metadata": {},
   "outputs": [
    {
     "data": {
      "text/plain": [
       "LinearRegression()"
      ]
     },
     "execution_count": 54,
     "metadata": {},
     "output_type": "execute_result"
    }
   ],
   "source": [
    "from sklearn.linear_model import LinearRegression\n",
    "Reg = LinearRegression()\n",
    "Reg.fit(x,y)"
   ]
  },
  {
   "cell_type": "code",
   "execution_count": 55,
   "id": "b3f6e340",
   "metadata": {},
   "outputs": [],
   "source": [
    "# Y=mx +C  m=Regression Coefficient, C= Intercept by sckit learn "
   ]
  },
  {
   "cell_type": "code",
   "execution_count": 56,
   "id": "0aa392e5",
   "metadata": {},
   "outputs": [
    {
     "data": {
      "text/plain": [
       "array([23818.18881119])"
      ]
     },
     "execution_count": 56,
     "metadata": {},
     "output_type": "execute_result"
    }
   ],
   "source": [
    "Reg.coef_"
   ]
  },
  {
   "cell_type": "code",
   "execution_count": 57,
   "id": "6dde8623",
   "metadata": {},
   "outputs": [
    {
     "data": {
      "text/plain": [
       "-46701884.682983674"
      ]
     },
     "execution_count": 57,
     "metadata": {},
     "output_type": "execute_result"
    }
   ],
   "source": [
    "Reg.intercept_"
   ]
  },
  {
   "cell_type": "code",
   "execution_count": 58,
   "id": "a22fec0e",
   "metadata": {},
   "outputs": [
    {
     "data": {
      "text/plain": [
       "array([ 976464,  993648,  997622, 1023137, 1025201, 1062991, 1103667,\n",
       "       1125082, 1144033, 1211322, 1219499, 1189068], dtype=int64)"
      ]
     },
     "execution_count": 58,
     "metadata": {},
     "output_type": "execute_result"
    }
   ],
   "source": [
    "y"
   ]
  },
  {
   "cell_type": "code",
   "execution_count": 59,
   "id": "4570dde1",
   "metadata": {},
   "outputs": [
    {
     "data": {
      "text/plain": [
       "array([ 958311.12820512,  982129.31701631, 1005947.5058275 ,\n",
       "       1029765.69463869, 1053583.88344987, 1077402.07226107,\n",
       "       1101220.26107226, 1125038.44988345, 1148856.63869463,\n",
       "       1172674.82750582, 1196493.01631701, 1220311.2051282 ])"
      ]
     },
     "execution_count": 59,
     "metadata": {},
     "output_type": "execute_result"
    }
   ],
   "source": [
    "Yp=Reg.predict(x)\n",
    "Yp"
   ]
  },
  {
   "cell_type": "code",
   "execution_count": 60,
   "id": "1f7bae71",
   "metadata": {},
   "outputs": [
    {
     "data": {
      "text/plain": [
       "0.9461522633937145"
      ]
     },
     "execution_count": 60,
     "metadata": {},
     "output_type": "execute_result"
    }
   ],
   "source": [
    "from sklearn.metrics import r2_score\n",
    "r2_score(y,Yp)"
   ]
  },
  {
   "cell_type": "code",
   "execution_count": 61,
   "id": "045bc1e4",
   "metadata": {},
   "outputs": [
    {
     "data": {
      "image/png": "[encoded data removed]",
      "text/plain": [
       "<Figure size 432x288 with 1 Axes>"
      ]
     },
     "metadata": {
      "needs_background": "light"
     },
     "output_type": "display_data"
    }
   ],
   "source": [
    "plt.scatter(x,y,color='red')\n",
    "plt.plot(x,Yp)\n",
    "plt.show()"
   ]
  },
  {
   "cell_type": "code",
   "execution_count": 62,
   "id": "c28aa370",
   "metadata": {},
   "outputs": [
    {
     "data": {
      "text/plain": [
       "94.61522633937145"
      ]
     },
     "execution_count": 62,
     "metadata": {},
     "output_type": "execute_result"
    }
   ],
   "source": [
    "Reg.score(x,y)*100"
   ]
  },
  {
   "cell_type": "markdown",
   "id": "b4a5188e",
   "metadata": {},
   "source": [
    "# For checking or predicting Suicides in futures In INDIA through this method"
   ]
  },
  {
   "cell_type": "code",
   "execution_count": 68,
   "id": "70856df3",
   "metadata": {},
   "outputs": [],
   "source": [
    "Z=Reg.predict(x)"
   ]
  },
  {
   "cell_type": "code",
   "execution_count": 69,
   "id": "32544f92",
   "metadata": {},
   "outputs": [
    {
     "data": {
      "text/plain": [
       "array([2482675.2121212])"
      ]
     },
     "execution_count": 69,
     "metadata": {},
     "output_type": "execute_result"
    }
   ],
   "source": [
    "Z=Reg.predict([[2065]])\n",
    "Z"
   ]
  },
  {
   "cell_type": "markdown",
   "id": "1ec33b2c",
   "metadata": {},
   "source": [
    "# In India we will predicting through this algorithm that in 2065th year the suicide count will be 24,82,675 nos."
   ]
  },
  {
   "cell_type": "markdown",
   "id": "60216a15",
   "metadata": {},
   "source": [
    "# Save the Model"
   ]
  },
  {
   "cell_type": "code",
   "execution_count": 70,
   "id": "49b09e50",
   "metadata": {},
   "outputs": [],
   "source": [
    "import pickle as pkl\n",
    "file = open('SIP.pkl','wb')\n"
   ]
  },
  {
   "cell_type": "code",
   "execution_count": null,
   "id": "4ea4696e",
   "metadata": {},
   "outputs": [],
   "source": []
  },
  {
   "cell_type": "code",
   "execution_count": null,
   "id": "62c6bf05",
   "metadata": {},
   "outputs": [],
   "source": []
  },
  {
   "cell_type": "code",
   "execution_count": null,
   "id": "25d9d650",
   "metadata": {},
   "outputs": [],
   "source": []
  },
  {
   "cell_type": "code",
   "execution_count": null,
   "id": "ea0a1145",
   "metadata": {},
   "outputs": [],
   "source": []
  }
 ],
 "metadata": {
  "kernelspec": {
   "display_name": "Python 3 (ipykernel)",
   "language": "python",
   "name": "python3"
  },
  "language_info": {
   "codemirror_mode": {
    "name": "ipython",
    "version": 3
   },
   "file_extension": ".py",
   "mimetype": "text/x-python",
   "name": "python",
   "nbconvert_exporter": "python",
   "pygments_lexer": "ipython3",
   "version": "3.9.7"
  }
 },
 "nbformat": 4,
 "nbformat_minor": 5
}
